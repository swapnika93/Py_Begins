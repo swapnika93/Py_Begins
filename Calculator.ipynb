{
 "cells": [
  {
   "cell_type": "code",
   "execution_count": 46,
   "id": "a76f7e24",
   "metadata": {},
   "outputs": [
    {
     "name": "stdout",
     "output_type": "stream",
     "text": [
      "Enter input (Ex:2+3,2*3):1984515  / 498421\n",
      "3.9816039051324084\n"
     ]
    }
   ],
   "source": [
    "#Taking operators in a list\n",
    "operators= ['+','-','*','/']\n",
    "\n",
    "#Taking user input\n",
    "user_input= input('Enter input (Ex:2+3,2*3):')\n",
    "\n",
    "# Removing spaces from the user input\n",
    "user_input = user_input.replace(\" \", \"\")\n",
    "\n",
    "#Using indexing to take x, y and op values from users input\n",
    "if len(user_input) < 3:\n",
    "    print ('Invalid Input')\n",
    "else:\n",
    "    # Finding the index of the operator in the user input\n",
    "    op_index = -1\n",
    "    for i in range(len(user_input)):\n",
    "        if user_input[i] in operators:\n",
    "            op_index = i\n",
    "            break\n",
    "    # Checking if the operator is found\n",
    "    if op_index == -1:\n",
    "        print('Invalid Input')\n",
    "    else:\n",
    "        # Splitting the user input by the operator index\n",
    "        x = float(user_input[:op_index])\n",
    "        op = user_input[op_index]\n",
    "        y = float(user_input[op_index + 1:])\n",
    "    \n",
    "#defining a simple calculator function \n",
    "def calc(x,op,y):\n",
    "    if op not in operators:\n",
    "        print('Invalid operators entered')\n",
    "    if op in operators:\n",
    "        if op == '+':\n",
    "            print(x + y)\n",
    "        elif op == '-':\n",
    "            print(x - y)\n",
    "        elif op == '*':\n",
    "            print(x * y)\n",
    "        elif op == '/':\n",
    "            if y == 0:\n",
    "                print(\"Can't divide by zero\")\n",
    "            else:\n",
    "                print(x / y)\n",
    "    \n",
    "#Print the result by calling the function\n",
    "result= calc(x, op, y)\n",
    "if result is not None:\n",
    "    print(result)"
   ]
  },
  {
   "cell_type": "code",
   "execution_count": null,
   "id": "85aa21e6",
   "metadata": {},
   "outputs": [],
   "source": []
  },
  {
   "cell_type": "code",
   "execution_count": null,
   "id": "cf3cfa44",
   "metadata": {},
   "outputs": [],
   "source": []
  }
 ],
 "metadata": {
  "kernelspec": {
   "display_name": "Python 3 (ipykernel)",
   "language": "python",
   "name": "python3"
  },
  "language_info": {
   "codemirror_mode": {
    "name": "ipython",
    "version": 3
   },
   "file_extension": ".py",
   "mimetype": "text/x-python",
   "name": "python",
   "nbconvert_exporter": "python",
   "pygments_lexer": "ipython3",
   "version": "3.10.9"
  }
 },
 "nbformat": 4,
 "nbformat_minor": 5
}
