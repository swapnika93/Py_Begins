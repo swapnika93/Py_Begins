{
 "cells": [
  {
   "cell_type": "markdown",
   "id": "8401217c",
   "metadata": {},
   "source": [
    "# EDA on Data Science Job Salaries"
   ]
  },
  {
   "cell_type": "markdown",
   "id": "d61e4165",
   "metadata": {},
   "source": [
    "### About Dataset"
   ]
  },
  {
   "cell_type": "markdown",
   "id": "d5f86403",
   "metadata": {},
   "source": [
    "##### DS_Salaries Dataset contains 11 columns\n",
    "\n",
    "1. work_year : The year the salary was paid.\n",
    "\n",
    "\n",
    "2. experience_level : The experience level in the job during the year, such as:\n",
    "    * EN = Entry-level / Junior \n",
    "    * MI = Mid-level / Intermediate\n",
    "    * SE = Senior-level / Expert\n",
    "    * EX = Executive-level / Director\n",
    "\n",
    "\n",
    "3. employment_type : The type of employment for the role, such as:\n",
    "    * PT = Part-time\n",
    "    * FT = Full-time\n",
    "    * CT = Contract\n",
    "    * FL = Freelance\n",
    "\n",
    "\n",
    "4. job_title : The role worked in during the year.\n",
    "\n",
    "\n",
    "5. salary : The total gross salary amount paid.\n",
    "\n",
    "\n",
    "6. salary_currency : The currency of the salary paid as an ISO 4217 currency code.\n",
    "\n",
    "\n",
    "7. salary_in_usd : The salary in USD\n",
    "\n",
    "\n",
    "8. employee_residence : Employee's primary country of residence in during the work year as an ISO 3166 country code.\n",
    "\n",
    "\n",
    "9. remote_ratio : The overall amount of work done remotely\n",
    "    * 0 = No remote work (less than 20%)\n",
    "    * 50 = Partially remote\n",
    "    * 100 = Fully remote (more than 80%)\n",
    "\n",
    "\n",
    "10. company_location : The country of the employer's main office or contracting branch\n",
    "\n",
    "\n",
    "11. company_size : The average number of people that worked for the company during the year, such as:\n",
    "    * S = less than 50 employees (small)\n",
    "    * M = 50 to 250 employees (medium)\n",
    "    * L = more than 250 employees (large)\n"
   ]
  },
  {
   "cell_type": "markdown",
   "id": "03766ba5",
   "metadata": {},
   "source": [
    "##### Importing libraries"
   ]
  },
  {
   "cell_type": "code",
   "execution_count": 1,
   "id": "a6c06361",
   "metadata": {},
   "outputs": [],
   "source": [
    "# Import all the necessary pakages \n",
    "\n",
    "import pandas as pd\n",
    "import numpy as np\n",
    "import matplotlib.pyplot as plt\n",
    "import seaborn as sns\n",
    "%matplotlib inline"
   ]
  },
  {
   "cell_type": "markdown",
   "id": "9c201716",
   "metadata": {},
   "source": [
    "##### Reading the dataset "
   ]
  },
  {
   "cell_type": "code",
   "execution_count": 2,
   "id": "3d41eb63",
   "metadata": {},
   "outputs": [],
   "source": [
    "df= pd.read_csv('ds_salaries.csv')"
   ]
  },
  {
   "cell_type": "markdown",
   "id": "4336d503",
   "metadata": {},
   "source": [
    "##### Analyzing the data"
   ]
  },
  {
   "cell_type": "code",
   "execution_count": 3,
   "id": "ac417efd",
   "metadata": {},
   "outputs": [
    {
     "data": {
      "text/plain": [
       "work_year              int64\n",
       "experience_level      object\n",
       "employment_type       object\n",
       "job_title             object\n",
       "salary                 int64\n",
       "salary_currency       object\n",
       "salary_in_usd          int64\n",
       "employee_residence    object\n",
       "remote_ratio           int64\n",
       "company_location      object\n",
       "company_size          object\n",
       "dtype: object"
      ]
     },
     "execution_count": 3,
     "metadata": {},
     "output_type": "execute_result"
    }
   ],
   "source": [
    "# Checking what are the values and datatypes of the values in dataset \n",
    "\n",
    "df.dtypes"
   ]
  },
  {
   "cell_type": "code",
   "execution_count": 4,
   "id": "fd0f71c3",
   "metadata": {},
   "outputs": [
    {
     "data": {
      "text/html": [
       "<div>\n",
       "<style scoped>\n",
       "    .dataframe tbody tr th:only-of-type {\n",
       "        vertical-align: middle;\n",
       "    }\n",
       "\n",
       "    .dataframe tbody tr th {\n",
       "        vertical-align: top;\n",
       "    }\n",
       "\n",
       "    .dataframe thead th {\n",
       "        text-align: right;\n",
       "    }\n",
       "</style>\n",
       "<table border=\"1\" class=\"dataframe\">\n",
       "  <thead>\n",
       "    <tr style=\"text-align: right;\">\n",
       "      <th></th>\n",
       "      <th>work_year</th>\n",
       "      <th>experience_level</th>\n",
       "      <th>employment_type</th>\n",
       "      <th>job_title</th>\n",
       "      <th>salary</th>\n",
       "      <th>salary_currency</th>\n",
       "      <th>salary_in_usd</th>\n",
       "      <th>employee_residence</th>\n",
       "      <th>remote_ratio</th>\n",
       "      <th>company_location</th>\n",
       "      <th>company_size</th>\n",
       "    </tr>\n",
       "  </thead>\n",
       "  <tbody>\n",
       "    <tr>\n",
       "      <th>0</th>\n",
       "      <td>2023</td>\n",
       "      <td>SE</td>\n",
       "      <td>FT</td>\n",
       "      <td>Principal Data Scientist</td>\n",
       "      <td>80000</td>\n",
       "      <td>EUR</td>\n",
       "      <td>85847</td>\n",
       "      <td>ES</td>\n",
       "      <td>100</td>\n",
       "      <td>ES</td>\n",
       "      <td>L</td>\n",
       "    </tr>\n",
       "    <tr>\n",
       "      <th>1</th>\n",
       "      <td>2023</td>\n",
       "      <td>MI</td>\n",
       "      <td>CT</td>\n",
       "      <td>ML Engineer</td>\n",
       "      <td>30000</td>\n",
       "      <td>USD</td>\n",
       "      <td>30000</td>\n",
       "      <td>US</td>\n",
       "      <td>100</td>\n",
       "      <td>US</td>\n",
       "      <td>S</td>\n",
       "    </tr>\n",
       "    <tr>\n",
       "      <th>2</th>\n",
       "      <td>2023</td>\n",
       "      <td>MI</td>\n",
       "      <td>CT</td>\n",
       "      <td>ML Engineer</td>\n",
       "      <td>25500</td>\n",
       "      <td>USD</td>\n",
       "      <td>25500</td>\n",
       "      <td>US</td>\n",
       "      <td>100</td>\n",
       "      <td>US</td>\n",
       "      <td>S</td>\n",
       "    </tr>\n",
       "    <tr>\n",
       "      <th>3</th>\n",
       "      <td>2023</td>\n",
       "      <td>SE</td>\n",
       "      <td>FT</td>\n",
       "      <td>Data Scientist</td>\n",
       "      <td>175000</td>\n",
       "      <td>USD</td>\n",
       "      <td>175000</td>\n",
       "      <td>CA</td>\n",
       "      <td>100</td>\n",
       "      <td>CA</td>\n",
       "      <td>M</td>\n",
       "    </tr>\n",
       "    <tr>\n",
       "      <th>4</th>\n",
       "      <td>2023</td>\n",
       "      <td>SE</td>\n",
       "      <td>FT</td>\n",
       "      <td>Data Scientist</td>\n",
       "      <td>120000</td>\n",
       "      <td>USD</td>\n",
       "      <td>120000</td>\n",
       "      <td>CA</td>\n",
       "      <td>100</td>\n",
       "      <td>CA</td>\n",
       "      <td>M</td>\n",
       "    </tr>\n",
       "    <tr>\n",
       "      <th>5</th>\n",
       "      <td>2023</td>\n",
       "      <td>SE</td>\n",
       "      <td>FT</td>\n",
       "      <td>Applied Scientist</td>\n",
       "      <td>222200</td>\n",
       "      <td>USD</td>\n",
       "      <td>222200</td>\n",
       "      <td>US</td>\n",
       "      <td>0</td>\n",
       "      <td>US</td>\n",
       "      <td>L</td>\n",
       "    </tr>\n",
       "    <tr>\n",
       "      <th>6</th>\n",
       "      <td>2023</td>\n",
       "      <td>SE</td>\n",
       "      <td>FT</td>\n",
       "      <td>Applied Scientist</td>\n",
       "      <td>136000</td>\n",
       "      <td>USD</td>\n",
       "      <td>136000</td>\n",
       "      <td>US</td>\n",
       "      <td>0</td>\n",
       "      <td>US</td>\n",
       "      <td>L</td>\n",
       "    </tr>\n",
       "    <tr>\n",
       "      <th>7</th>\n",
       "      <td>2023</td>\n",
       "      <td>SE</td>\n",
       "      <td>FT</td>\n",
       "      <td>Data Scientist</td>\n",
       "      <td>219000</td>\n",
       "      <td>USD</td>\n",
       "      <td>219000</td>\n",
       "      <td>CA</td>\n",
       "      <td>0</td>\n",
       "      <td>CA</td>\n",
       "      <td>M</td>\n",
       "    </tr>\n",
       "    <tr>\n",
       "      <th>8</th>\n",
       "      <td>2023</td>\n",
       "      <td>SE</td>\n",
       "      <td>FT</td>\n",
       "      <td>Data Scientist</td>\n",
       "      <td>141000</td>\n",
       "      <td>USD</td>\n",
       "      <td>141000</td>\n",
       "      <td>CA</td>\n",
       "      <td>0</td>\n",
       "      <td>CA</td>\n",
       "      <td>M</td>\n",
       "    </tr>\n",
       "    <tr>\n",
       "      <th>9</th>\n",
       "      <td>2023</td>\n",
       "      <td>SE</td>\n",
       "      <td>FT</td>\n",
       "      <td>Data Scientist</td>\n",
       "      <td>147100</td>\n",
       "      <td>USD</td>\n",
       "      <td>147100</td>\n",
       "      <td>US</td>\n",
       "      <td>0</td>\n",
       "      <td>US</td>\n",
       "      <td>M</td>\n",
       "    </tr>\n",
       "  </tbody>\n",
       "</table>\n",
       "</div>"
      ],
      "text/plain": [
       "   work_year experience_level employment_type                 job_title  \\\n",
       "0       2023               SE              FT  Principal Data Scientist   \n",
       "1       2023               MI              CT               ML Engineer   \n",
       "2       2023               MI              CT               ML Engineer   \n",
       "3       2023               SE              FT            Data Scientist   \n",
       "4       2023               SE              FT            Data Scientist   \n",
       "5       2023               SE              FT         Applied Scientist   \n",
       "6       2023               SE              FT         Applied Scientist   \n",
       "7       2023               SE              FT            Data Scientist   \n",
       "8       2023               SE              FT            Data Scientist   \n",
       "9       2023               SE              FT            Data Scientist   \n",
       "\n",
       "   salary salary_currency  salary_in_usd employee_residence  remote_ratio  \\\n",
       "0   80000             EUR          85847                 ES           100   \n",
       "1   30000             USD          30000                 US           100   \n",
       "2   25500             USD          25500                 US           100   \n",
       "3  175000             USD         175000                 CA           100   \n",
       "4  120000             USD         120000                 CA           100   \n",
       "5  222200             USD         222200                 US             0   \n",
       "6  136000             USD         136000                 US             0   \n",
       "7  219000             USD         219000                 CA             0   \n",
       "8  141000             USD         141000                 CA             0   \n",
       "9  147100             USD         147100                 US             0   \n",
       "\n",
       "  company_location company_size  \n",
       "0               ES            L  \n",
       "1               US            S  \n",
       "2               US            S  \n",
       "3               CA            M  \n",
       "4               CA            M  \n",
       "5               US            L  \n",
       "6               US            L  \n",
       "7               CA            M  \n",
       "8               CA            M  \n",
       "9               US            M  "
      ]
     },
     "execution_count": 4,
     "metadata": {},
     "output_type": "execute_result"
    }
   ],
   "source": [
    "# Starting 10 values\n",
    "\n",
    "df.head(10)"
   ]
  },
  {
   "cell_type": "code",
   "execution_count": 5,
   "id": "cf04f1e8",
   "metadata": {},
   "outputs": [
    {
     "data": {
      "text/html": [
       "<div>\n",
       "<style scoped>\n",
       "    .dataframe tbody tr th:only-of-type {\n",
       "        vertical-align: middle;\n",
       "    }\n",
       "\n",
       "    .dataframe tbody tr th {\n",
       "        vertical-align: top;\n",
       "    }\n",
       "\n",
       "    .dataframe thead th {\n",
       "        text-align: right;\n",
       "    }\n",
       "</style>\n",
       "<table border=\"1\" class=\"dataframe\">\n",
       "  <thead>\n",
       "    <tr style=\"text-align: right;\">\n",
       "      <th></th>\n",
       "      <th>work_year</th>\n",
       "      <th>experience_level</th>\n",
       "      <th>employment_type</th>\n",
       "      <th>job_title</th>\n",
       "      <th>salary</th>\n",
       "      <th>salary_currency</th>\n",
       "      <th>salary_in_usd</th>\n",
       "      <th>employee_residence</th>\n",
       "      <th>remote_ratio</th>\n",
       "      <th>company_location</th>\n",
       "      <th>company_size</th>\n",
       "    </tr>\n",
       "  </thead>\n",
       "  <tbody>\n",
       "    <tr>\n",
       "      <th>3745</th>\n",
       "      <td>2021</td>\n",
       "      <td>SE</td>\n",
       "      <td>FT</td>\n",
       "      <td>Director of Data Science</td>\n",
       "      <td>168000</td>\n",
       "      <td>USD</td>\n",
       "      <td>168000</td>\n",
       "      <td>JP</td>\n",
       "      <td>0</td>\n",
       "      <td>JP</td>\n",
       "      <td>S</td>\n",
       "    </tr>\n",
       "    <tr>\n",
       "      <th>3746</th>\n",
       "      <td>2021</td>\n",
       "      <td>MI</td>\n",
       "      <td>FT</td>\n",
       "      <td>Data Scientist</td>\n",
       "      <td>160000</td>\n",
       "      <td>SGD</td>\n",
       "      <td>119059</td>\n",
       "      <td>SG</td>\n",
       "      <td>100</td>\n",
       "      <td>IL</td>\n",
       "      <td>M</td>\n",
       "    </tr>\n",
       "    <tr>\n",
       "      <th>3747</th>\n",
       "      <td>2021</td>\n",
       "      <td>MI</td>\n",
       "      <td>FT</td>\n",
       "      <td>Applied Machine Learning Scientist</td>\n",
       "      <td>423000</td>\n",
       "      <td>USD</td>\n",
       "      <td>423000</td>\n",
       "      <td>US</td>\n",
       "      <td>50</td>\n",
       "      <td>US</td>\n",
       "      <td>L</td>\n",
       "    </tr>\n",
       "    <tr>\n",
       "      <th>3748</th>\n",
       "      <td>2021</td>\n",
       "      <td>MI</td>\n",
       "      <td>FT</td>\n",
       "      <td>Data Engineer</td>\n",
       "      <td>24000</td>\n",
       "      <td>EUR</td>\n",
       "      <td>28369</td>\n",
       "      <td>MT</td>\n",
       "      <td>50</td>\n",
       "      <td>MT</td>\n",
       "      <td>L</td>\n",
       "    </tr>\n",
       "    <tr>\n",
       "      <th>3749</th>\n",
       "      <td>2021</td>\n",
       "      <td>SE</td>\n",
       "      <td>FT</td>\n",
       "      <td>Data Specialist</td>\n",
       "      <td>165000</td>\n",
       "      <td>USD</td>\n",
       "      <td>165000</td>\n",
       "      <td>US</td>\n",
       "      <td>100</td>\n",
       "      <td>US</td>\n",
       "      <td>L</td>\n",
       "    </tr>\n",
       "    <tr>\n",
       "      <th>3750</th>\n",
       "      <td>2020</td>\n",
       "      <td>SE</td>\n",
       "      <td>FT</td>\n",
       "      <td>Data Scientist</td>\n",
       "      <td>412000</td>\n",
       "      <td>USD</td>\n",
       "      <td>412000</td>\n",
       "      <td>US</td>\n",
       "      <td>100</td>\n",
       "      <td>US</td>\n",
       "      <td>L</td>\n",
       "    </tr>\n",
       "    <tr>\n",
       "      <th>3751</th>\n",
       "      <td>2021</td>\n",
       "      <td>MI</td>\n",
       "      <td>FT</td>\n",
       "      <td>Principal Data Scientist</td>\n",
       "      <td>151000</td>\n",
       "      <td>USD</td>\n",
       "      <td>151000</td>\n",
       "      <td>US</td>\n",
       "      <td>100</td>\n",
       "      <td>US</td>\n",
       "      <td>L</td>\n",
       "    </tr>\n",
       "    <tr>\n",
       "      <th>3752</th>\n",
       "      <td>2020</td>\n",
       "      <td>EN</td>\n",
       "      <td>FT</td>\n",
       "      <td>Data Scientist</td>\n",
       "      <td>105000</td>\n",
       "      <td>USD</td>\n",
       "      <td>105000</td>\n",
       "      <td>US</td>\n",
       "      <td>100</td>\n",
       "      <td>US</td>\n",
       "      <td>S</td>\n",
       "    </tr>\n",
       "    <tr>\n",
       "      <th>3753</th>\n",
       "      <td>2020</td>\n",
       "      <td>EN</td>\n",
       "      <td>CT</td>\n",
       "      <td>Business Data Analyst</td>\n",
       "      <td>100000</td>\n",
       "      <td>USD</td>\n",
       "      <td>100000</td>\n",
       "      <td>US</td>\n",
       "      <td>100</td>\n",
       "      <td>US</td>\n",
       "      <td>L</td>\n",
       "    </tr>\n",
       "    <tr>\n",
       "      <th>3754</th>\n",
       "      <td>2021</td>\n",
       "      <td>SE</td>\n",
       "      <td>FT</td>\n",
       "      <td>Data Science Manager</td>\n",
       "      <td>7000000</td>\n",
       "      <td>INR</td>\n",
       "      <td>94665</td>\n",
       "      <td>IN</td>\n",
       "      <td>50</td>\n",
       "      <td>IN</td>\n",
       "      <td>L</td>\n",
       "    </tr>\n",
       "  </tbody>\n",
       "</table>\n",
       "</div>"
      ],
      "text/plain": [
       "      work_year experience_level employment_type  \\\n",
       "3745       2021               SE              FT   \n",
       "3746       2021               MI              FT   \n",
       "3747       2021               MI              FT   \n",
       "3748       2021               MI              FT   \n",
       "3749       2021               SE              FT   \n",
       "3750       2020               SE              FT   \n",
       "3751       2021               MI              FT   \n",
       "3752       2020               EN              FT   \n",
       "3753       2020               EN              CT   \n",
       "3754       2021               SE              FT   \n",
       "\n",
       "                               job_title   salary salary_currency  \\\n",
       "3745            Director of Data Science   168000             USD   \n",
       "3746                      Data Scientist   160000             SGD   \n",
       "3747  Applied Machine Learning Scientist   423000             USD   \n",
       "3748                       Data Engineer    24000             EUR   \n",
       "3749                     Data Specialist   165000             USD   \n",
       "3750                      Data Scientist   412000             USD   \n",
       "3751            Principal Data Scientist   151000             USD   \n",
       "3752                      Data Scientist   105000             USD   \n",
       "3753               Business Data Analyst   100000             USD   \n",
       "3754                Data Science Manager  7000000             INR   \n",
       "\n",
       "      salary_in_usd employee_residence  remote_ratio company_location  \\\n",
       "3745         168000                 JP             0               JP   \n",
       "3746         119059                 SG           100               IL   \n",
       "3747         423000                 US            50               US   \n",
       "3748          28369                 MT            50               MT   \n",
       "3749         165000                 US           100               US   \n",
       "3750         412000                 US           100               US   \n",
       "3751         151000                 US           100               US   \n",
       "3752         105000                 US           100               US   \n",
       "3753         100000                 US           100               US   \n",
       "3754          94665                 IN            50               IN   \n",
       "\n",
       "     company_size  \n",
       "3745            S  \n",
       "3746            M  \n",
       "3747            L  \n",
       "3748            L  \n",
       "3749            L  \n",
       "3750            L  \n",
       "3751            L  \n",
       "3752            S  \n",
       "3753            L  \n",
       "3754            L  "
      ]
     },
     "execution_count": 5,
     "metadata": {},
     "output_type": "execute_result"
    }
   ],
   "source": [
    "# Bottom 10 values\n",
    "\n",
    "df.tail(10)"
   ]
  },
  {
   "cell_type": "code",
   "execution_count": 6,
   "id": "1fdecfe0",
   "metadata": {},
   "outputs": [
    {
     "data": {
      "text/html": [
       "<div>\n",
       "<style scoped>\n",
       "    .dataframe tbody tr th:only-of-type {\n",
       "        vertical-align: middle;\n",
       "    }\n",
       "\n",
       "    .dataframe tbody tr th {\n",
       "        vertical-align: top;\n",
       "    }\n",
       "\n",
       "    .dataframe thead th {\n",
       "        text-align: right;\n",
       "    }\n",
       "</style>\n",
       "<table border=\"1\" class=\"dataframe\">\n",
       "  <thead>\n",
       "    <tr style=\"text-align: right;\">\n",
       "      <th></th>\n",
       "      <th>work_year</th>\n",
       "      <th>salary</th>\n",
       "      <th>salary_in_usd</th>\n",
       "      <th>remote_ratio</th>\n",
       "    </tr>\n",
       "  </thead>\n",
       "  <tbody>\n",
       "    <tr>\n",
       "      <th>count</th>\n",
       "      <td>3755.000000</td>\n",
       "      <td>3.755000e+03</td>\n",
       "      <td>3755.000000</td>\n",
       "      <td>3755.000000</td>\n",
       "    </tr>\n",
       "    <tr>\n",
       "      <th>mean</th>\n",
       "      <td>2022.373635</td>\n",
       "      <td>1.906956e+05</td>\n",
       "      <td>137570.389880</td>\n",
       "      <td>46.271638</td>\n",
       "    </tr>\n",
       "    <tr>\n",
       "      <th>std</th>\n",
       "      <td>0.691448</td>\n",
       "      <td>6.716765e+05</td>\n",
       "      <td>63055.625278</td>\n",
       "      <td>48.589050</td>\n",
       "    </tr>\n",
       "    <tr>\n",
       "      <th>min</th>\n",
       "      <td>2020.000000</td>\n",
       "      <td>6.000000e+03</td>\n",
       "      <td>5132.000000</td>\n",
       "      <td>0.000000</td>\n",
       "    </tr>\n",
       "    <tr>\n",
       "      <th>25%</th>\n",
       "      <td>2022.000000</td>\n",
       "      <td>1.000000e+05</td>\n",
       "      <td>95000.000000</td>\n",
       "      <td>0.000000</td>\n",
       "    </tr>\n",
       "    <tr>\n",
       "      <th>50%</th>\n",
       "      <td>2022.000000</td>\n",
       "      <td>1.380000e+05</td>\n",
       "      <td>135000.000000</td>\n",
       "      <td>0.000000</td>\n",
       "    </tr>\n",
       "    <tr>\n",
       "      <th>75%</th>\n",
       "      <td>2023.000000</td>\n",
       "      <td>1.800000e+05</td>\n",
       "      <td>175000.000000</td>\n",
       "      <td>100.000000</td>\n",
       "    </tr>\n",
       "    <tr>\n",
       "      <th>max</th>\n",
       "      <td>2023.000000</td>\n",
       "      <td>3.040000e+07</td>\n",
       "      <td>450000.000000</td>\n",
       "      <td>100.000000</td>\n",
       "    </tr>\n",
       "  </tbody>\n",
       "</table>\n",
       "</div>"
      ],
      "text/plain": [
       "         work_year        salary  salary_in_usd  remote_ratio\n",
       "count  3755.000000  3.755000e+03    3755.000000   3755.000000\n",
       "mean   2022.373635  1.906956e+05  137570.389880     46.271638\n",
       "std       0.691448  6.716765e+05   63055.625278     48.589050\n",
       "min    2020.000000  6.000000e+03    5132.000000      0.000000\n",
       "25%    2022.000000  1.000000e+05   95000.000000      0.000000\n",
       "50%    2022.000000  1.380000e+05  135000.000000      0.000000\n",
       "75%    2023.000000  1.800000e+05  175000.000000    100.000000\n",
       "max    2023.000000  3.040000e+07  450000.000000    100.000000"
      ]
     },
     "execution_count": 6,
     "metadata": {},
     "output_type": "execute_result"
    }
   ],
   "source": [
    "# Finding the descriptive analysis\n",
    "\n",
    "df.describe()"
   ]
  },
  {
   "cell_type": "code",
   "execution_count": 8,
   "id": "2537c968",
   "metadata": {},
   "outputs": [
    {
     "data": {
      "text/html": [
       "<div>\n",
       "<style scoped>\n",
       "    .dataframe tbody tr th:only-of-type {\n",
       "        vertical-align: middle;\n",
       "    }\n",
       "\n",
       "    .dataframe tbody tr th {\n",
       "        vertical-align: top;\n",
       "    }\n",
       "\n",
       "    .dataframe thead th {\n",
       "        text-align: right;\n",
       "    }\n",
       "</style>\n",
       "<table border=\"1\" class=\"dataframe\">\n",
       "  <thead>\n",
       "    <tr style=\"text-align: right;\">\n",
       "      <th></th>\n",
       "      <th>experience_level</th>\n",
       "      <th>employment_type</th>\n",
       "      <th>job_title</th>\n",
       "      <th>salary_currency</th>\n",
       "      <th>employee_residence</th>\n",
       "      <th>company_location</th>\n",
       "      <th>company_size</th>\n",
       "    </tr>\n",
       "  </thead>\n",
       "  <tbody>\n",
       "    <tr>\n",
       "      <th>count</th>\n",
       "      <td>3755</td>\n",
       "      <td>3755</td>\n",
       "      <td>3755</td>\n",
       "      <td>3755</td>\n",
       "      <td>3755</td>\n",
       "      <td>3755</td>\n",
       "      <td>3755</td>\n",
       "    </tr>\n",
       "    <tr>\n",
       "      <th>unique</th>\n",
       "      <td>4</td>\n",
       "      <td>4</td>\n",
       "      <td>93</td>\n",
       "      <td>20</td>\n",
       "      <td>78</td>\n",
       "      <td>72</td>\n",
       "      <td>3</td>\n",
       "    </tr>\n",
       "    <tr>\n",
       "      <th>top</th>\n",
       "      <td>SE</td>\n",
       "      <td>FT</td>\n",
       "      <td>Data Engineer</td>\n",
       "      <td>USD</td>\n",
       "      <td>US</td>\n",
       "      <td>US</td>\n",
       "      <td>M</td>\n",
       "    </tr>\n",
       "    <tr>\n",
       "      <th>freq</th>\n",
       "      <td>2516</td>\n",
       "      <td>3718</td>\n",
       "      <td>1040</td>\n",
       "      <td>3224</td>\n",
       "      <td>3004</td>\n",
       "      <td>3040</td>\n",
       "      <td>3153</td>\n",
       "    </tr>\n",
       "  </tbody>\n",
       "</table>\n",
       "</div>"
      ],
      "text/plain": [
       "       experience_level employment_type      job_title salary_currency  \\\n",
       "count              3755            3755           3755            3755   \n",
       "unique                4               4             93              20   \n",
       "top                  SE              FT  Data Engineer             USD   \n",
       "freq               2516            3718           1040            3224   \n",
       "\n",
       "       employee_residence company_location company_size  \n",
       "count                3755             3755         3755  \n",
       "unique                 78               72            3  \n",
       "top                    US               US            M  \n",
       "freq                 3004             3040         3153  "
      ]
     },
     "execution_count": 8,
     "metadata": {},
     "output_type": "execute_result"
    }
   ],
   "source": [
    "df.describe(include='O')"
   ]
  },
  {
   "cell_type": "code",
   "execution_count": 9,
   "id": "05b8f411",
   "metadata": {},
   "outputs": [
    {
     "data": {
      "text/plain": [
       "(3755, 11)"
      ]
     },
     "execution_count": 9,
     "metadata": {},
     "output_type": "execute_result"
    }
   ],
   "source": [
    "# Shape of the dataset\n",
    "\n",
    "df.shape"
   ]
  },
  {
   "cell_type": "code",
   "execution_count": 10,
   "id": "f0b68c36",
   "metadata": {},
   "outputs": [
    {
     "name": "stdout",
     "output_type": "stream",
     "text": [
      "<class 'pandas.core.frame.DataFrame'>\n",
      "RangeIndex: 3755 entries, 0 to 3754\n",
      "Data columns (total 11 columns):\n",
      " #   Column              Non-Null Count  Dtype \n",
      "---  ------              --------------  ----- \n",
      " 0   work_year           3755 non-null   int64 \n",
      " 1   experience_level    3755 non-null   object\n",
      " 2   employment_type     3755 non-null   object\n",
      " 3   job_title           3755 non-null   object\n",
      " 4   salary              3755 non-null   int64 \n",
      " 5   salary_currency     3755 non-null   object\n",
      " 6   salary_in_usd       3755 non-null   int64 \n",
      " 7   employee_residence  3755 non-null   object\n",
      " 8   remote_ratio        3755 non-null   int64 \n",
      " 9   company_location    3755 non-null   object\n",
      " 10  company_size        3755 non-null   object\n",
      "dtypes: int64(4), object(7)\n",
      "memory usage: 322.8+ KB\n"
     ]
    }
   ],
   "source": [
    "# Complete information about the dataset\n",
    "\n",
    "df.info()"
   ]
  },
  {
   "cell_type": "markdown",
   "id": "e0e9f8f0",
   "metadata": {},
   "source": [
    "##### Data Cleaning "
   ]
  },
  {
   "cell_type": "code",
   "execution_count": 11,
   "id": "09ff9b28",
   "metadata": {},
   "outputs": [
    {
     "data": {
      "text/plain": [
       "work_year             0\n",
       "experience_level      0\n",
       "employment_type       0\n",
       "job_title             0\n",
       "salary                0\n",
       "salary_currency       0\n",
       "salary_in_usd         0\n",
       "employee_residence    0\n",
       "remote_ratio          0\n",
       "company_location      0\n",
       "company_size          0\n",
       "dtype: int64"
      ]
     },
     "execution_count": 11,
     "metadata": {},
     "output_type": "execute_result"
    }
   ],
   "source": [
    "# Checking whether there are any null values\n",
    "\n",
    "df.isnull().sum()"
   ]
  },
  {
   "cell_type": "markdown",
   "id": "bee5c39e",
   "metadata": {},
   "source": [
    "There are no null values present in the dataset"
   ]
  },
  {
   "cell_type": "code",
   "execution_count": 12,
   "id": "f90da95d",
   "metadata": {},
   "outputs": [
    {
     "data": {
      "text/plain": [
       "1171"
      ]
     },
     "execution_count": 12,
     "metadata": {},
     "output_type": "execute_result"
    }
   ],
   "source": [
    "# Checking whether there are any duplicates\n",
    "\n",
    "df.duplicated().sum()"
   ]
  },
  {
   "cell_type": "markdown",
   "id": "c8833764",
   "metadata": {},
   "source": [
    "There are 1171 duplicates in the entire dataset"
   ]
  },
  {
   "cell_type": "code",
   "execution_count": 13,
   "id": "199bd06d",
   "metadata": {},
   "outputs": [
    {
     "data": {
      "text/html": [
       "<div>\n",
       "<style scoped>\n",
       "    .dataframe tbody tr th:only-of-type {\n",
       "        vertical-align: middle;\n",
       "    }\n",
       "\n",
       "    .dataframe tbody tr th {\n",
       "        vertical-align: top;\n",
       "    }\n",
       "\n",
       "    .dataframe thead th {\n",
       "        text-align: right;\n",
       "    }\n",
       "</style>\n",
       "<table border=\"1\" class=\"dataframe\">\n",
       "  <thead>\n",
       "    <tr style=\"text-align: right;\">\n",
       "      <th></th>\n",
       "      <th>work_year</th>\n",
       "      <th>experience_level</th>\n",
       "      <th>employment_type</th>\n",
       "      <th>job_title</th>\n",
       "      <th>salary</th>\n",
       "      <th>salary_currency</th>\n",
       "      <th>salary_in_usd</th>\n",
       "      <th>employee_residence</th>\n",
       "      <th>remote_ratio</th>\n",
       "      <th>company_location</th>\n",
       "      <th>company_size</th>\n",
       "    </tr>\n",
       "  </thead>\n",
       "  <tbody>\n",
       "    <tr>\n",
       "      <th>115</th>\n",
       "      <td>2023</td>\n",
       "      <td>SE</td>\n",
       "      <td>FT</td>\n",
       "      <td>Data Scientist</td>\n",
       "      <td>150000</td>\n",
       "      <td>USD</td>\n",
       "      <td>150000</td>\n",
       "      <td>US</td>\n",
       "      <td>0</td>\n",
       "      <td>US</td>\n",
       "      <td>M</td>\n",
       "    </tr>\n",
       "    <tr>\n",
       "      <th>123</th>\n",
       "      <td>2023</td>\n",
       "      <td>SE</td>\n",
       "      <td>FT</td>\n",
       "      <td>Analytics Engineer</td>\n",
       "      <td>289800</td>\n",
       "      <td>USD</td>\n",
       "      <td>289800</td>\n",
       "      <td>US</td>\n",
       "      <td>0</td>\n",
       "      <td>US</td>\n",
       "      <td>M</td>\n",
       "    </tr>\n",
       "    <tr>\n",
       "      <th>153</th>\n",
       "      <td>2023</td>\n",
       "      <td>MI</td>\n",
       "      <td>FT</td>\n",
       "      <td>Data Engineer</td>\n",
       "      <td>100000</td>\n",
       "      <td>USD</td>\n",
       "      <td>100000</td>\n",
       "      <td>US</td>\n",
       "      <td>100</td>\n",
       "      <td>US</td>\n",
       "      <td>M</td>\n",
       "    </tr>\n",
       "    <tr>\n",
       "      <th>154</th>\n",
       "      <td>2023</td>\n",
       "      <td>MI</td>\n",
       "      <td>FT</td>\n",
       "      <td>Data Engineer</td>\n",
       "      <td>70000</td>\n",
       "      <td>USD</td>\n",
       "      <td>70000</td>\n",
       "      <td>US</td>\n",
       "      <td>100</td>\n",
       "      <td>US</td>\n",
       "      <td>M</td>\n",
       "    </tr>\n",
       "    <tr>\n",
       "      <th>160</th>\n",
       "      <td>2023</td>\n",
       "      <td>SE</td>\n",
       "      <td>FT</td>\n",
       "      <td>Data Engineer</td>\n",
       "      <td>115000</td>\n",
       "      <td>USD</td>\n",
       "      <td>115000</td>\n",
       "      <td>US</td>\n",
       "      <td>0</td>\n",
       "      <td>US</td>\n",
       "      <td>M</td>\n",
       "    </tr>\n",
       "  </tbody>\n",
       "</table>\n",
       "</div>"
      ],
      "text/plain": [
       "     work_year experience_level employment_type           job_title  salary  \\\n",
       "115       2023               SE              FT      Data Scientist  150000   \n",
       "123       2023               SE              FT  Analytics Engineer  289800   \n",
       "153       2023               MI              FT       Data Engineer  100000   \n",
       "154       2023               MI              FT       Data Engineer   70000   \n",
       "160       2023               SE              FT       Data Engineer  115000   \n",
       "\n",
       "    salary_currency  salary_in_usd employee_residence  remote_ratio  \\\n",
       "115             USD         150000                 US             0   \n",
       "123             USD         289800                 US             0   \n",
       "153             USD         100000                 US           100   \n",
       "154             USD          70000                 US           100   \n",
       "160             USD         115000                 US             0   \n",
       "\n",
       "    company_location company_size  \n",
       "115               US            M  \n",
       "123               US            M  \n",
       "153               US            M  \n",
       "154               US            M  \n",
       "160               US            M  "
      ]
     },
     "execution_count": 13,
     "metadata": {},
     "output_type": "execute_result"
    }
   ],
   "source": [
    "# Top 5 duplicates in the dataset\n",
    "\n",
    "df[df.duplicated()].head()"
   ]
  },
  {
   "cell_type": "code",
   "execution_count": 14,
   "id": "b398de9f",
   "metadata": {},
   "outputs": [],
   "source": [
    "# Dropping the duplicates\n",
    "\n",
    "df1= df.drop_duplicates()"
   ]
  },
  {
   "cell_type": "markdown",
   "id": "90460596",
   "metadata": {},
   "source": [
    "All the 1171 duplicates are dropped"
   ]
  },
  {
   "cell_type": "code",
   "execution_count": 15,
   "id": "e513d589",
   "metadata": {},
   "outputs": [
    {
     "data": {
      "text/plain": [
       "0"
      ]
     },
     "execution_count": 15,
     "metadata": {},
     "output_type": "execute_result"
    }
   ],
   "source": [
    "df1.duplicated().sum()"
   ]
  },
  {
   "cell_type": "markdown",
   "id": "a568b194",
   "metadata": {},
   "source": [
    "There are no duplicates now"
   ]
  },
  {
   "cell_type": "code",
   "execution_count": 16,
   "id": "d0f582f1",
   "metadata": {},
   "outputs": [
    {
     "data": {
      "text/plain": [
       "(2584, 11)"
      ]
     },
     "execution_count": 16,
     "metadata": {},
     "output_type": "execute_result"
    }
   ],
   "source": [
    "# Shape of the dataset after removing all duplicates\n",
    "\n",
    "df1.shape"
   ]
  },
  {
   "cell_type": "code",
   "execution_count": 17,
   "id": "49a6010b",
   "metadata": {},
   "outputs": [
    {
     "name": "stdout",
     "output_type": "stream",
     "text": [
      "<class 'pandas.core.frame.DataFrame'>\n",
      "Int64Index: 2584 entries, 0 to 3754\n",
      "Data columns (total 11 columns):\n",
      " #   Column              Non-Null Count  Dtype \n",
      "---  ------              --------------  ----- \n",
      " 0   work_year           2584 non-null   int64 \n",
      " 1   experience_level    2584 non-null   object\n",
      " 2   employment_type     2584 non-null   object\n",
      " 3   job_title           2584 non-null   object\n",
      " 4   salary              2584 non-null   int64 \n",
      " 5   salary_currency     2584 non-null   object\n",
      " 6   salary_in_usd       2584 non-null   int64 \n",
      " 7   employee_residence  2584 non-null   object\n",
      " 8   remote_ratio        2584 non-null   int64 \n",
      " 9   company_location    2584 non-null   object\n",
      " 10  company_size        2584 non-null   object\n",
      "dtypes: int64(4), object(7)\n",
      "memory usage: 242.2+ KB\n"
     ]
    }
   ],
   "source": [
    "# Complete information about the dataset after cleaning the data\n",
    "\n",
    "df1.info()"
   ]
  },
  {
   "cell_type": "markdown",
   "id": "4b2f734a",
   "metadata": {},
   "source": [
    "Now, there are 2584 entries with 11 columns in the dataset"
   ]
  },
  {
   "cell_type": "code",
   "execution_count": 18,
   "id": "30254a2b",
   "metadata": {},
   "outputs": [
    {
     "data": {
      "text/html": [
       "<div>\n",
       "<style scoped>\n",
       "    .dataframe tbody tr th:only-of-type {\n",
       "        vertical-align: middle;\n",
       "    }\n",
       "\n",
       "    .dataframe tbody tr th {\n",
       "        vertical-align: top;\n",
       "    }\n",
       "\n",
       "    .dataframe thead th {\n",
       "        text-align: right;\n",
       "    }\n",
       "</style>\n",
       "<table border=\"1\" class=\"dataframe\">\n",
       "  <thead>\n",
       "    <tr style=\"text-align: right;\">\n",
       "      <th></th>\n",
       "      <th>work_year</th>\n",
       "      <th>salary</th>\n",
       "      <th>salary_in_usd</th>\n",
       "      <th>remote_ratio</th>\n",
       "    </tr>\n",
       "  </thead>\n",
       "  <tbody>\n",
       "    <tr>\n",
       "      <th>count</th>\n",
       "      <td>2584.000000</td>\n",
       "      <td>2.584000e+03</td>\n",
       "      <td>2584.000000</td>\n",
       "      <td>2584.000000</td>\n",
       "    </tr>\n",
       "    <tr>\n",
       "      <th>mean</th>\n",
       "      <td>2022.301084</td>\n",
       "      <td>2.103653e+05</td>\n",
       "      <td>133409.280186</td>\n",
       "      <td>50.483746</td>\n",
       "    </tr>\n",
       "    <tr>\n",
       "      <th>std</th>\n",
       "      <td>0.749179</td>\n",
       "      <td>8.080375e+05</td>\n",
       "      <td>67136.837329</td>\n",
       "      <td>48.163707</td>\n",
       "    </tr>\n",
       "    <tr>\n",
       "      <th>min</th>\n",
       "      <td>2020.000000</td>\n",
       "      <td>6.000000e+03</td>\n",
       "      <td>5132.000000</td>\n",
       "      <td>0.000000</td>\n",
       "    </tr>\n",
       "    <tr>\n",
       "      <th>25%</th>\n",
       "      <td>2022.000000</td>\n",
       "      <td>9.000000e+04</td>\n",
       "      <td>84975.000000</td>\n",
       "      <td>0.000000</td>\n",
       "    </tr>\n",
       "    <tr>\n",
       "      <th>50%</th>\n",
       "      <td>2022.000000</td>\n",
       "      <td>1.346300e+05</td>\n",
       "      <td>130000.000000</td>\n",
       "      <td>50.000000</td>\n",
       "    </tr>\n",
       "    <tr>\n",
       "      <th>75%</th>\n",
       "      <td>2023.000000</td>\n",
       "      <td>1.825625e+05</td>\n",
       "      <td>175000.000000</td>\n",
       "      <td>100.000000</td>\n",
       "    </tr>\n",
       "    <tr>\n",
       "      <th>max</th>\n",
       "      <td>2023.000000</td>\n",
       "      <td>3.040000e+07</td>\n",
       "      <td>450000.000000</td>\n",
       "      <td>100.000000</td>\n",
       "    </tr>\n",
       "  </tbody>\n",
       "</table>\n",
       "</div>"
      ],
      "text/plain": [
       "         work_year        salary  salary_in_usd  remote_ratio\n",
       "count  2584.000000  2.584000e+03    2584.000000   2584.000000\n",
       "mean   2022.301084  2.103653e+05  133409.280186     50.483746\n",
       "std       0.749179  8.080375e+05   67136.837329     48.163707\n",
       "min    2020.000000  6.000000e+03    5132.000000      0.000000\n",
       "25%    2022.000000  9.000000e+04   84975.000000      0.000000\n",
       "50%    2022.000000  1.346300e+05  130000.000000     50.000000\n",
       "75%    2023.000000  1.825625e+05  175000.000000    100.000000\n",
       "max    2023.000000  3.040000e+07  450000.000000    100.000000"
      ]
     },
     "execution_count": 18,
     "metadata": {},
     "output_type": "execute_result"
    }
   ],
   "source": [
    "df1.describe()"
   ]
  },
  {
   "cell_type": "code",
   "execution_count": 19,
   "id": "b9190395",
   "metadata": {},
   "outputs": [
    {
     "data": {
      "text/html": [
       "<div>\n",
       "<style scoped>\n",
       "    .dataframe tbody tr th:only-of-type {\n",
       "        vertical-align: middle;\n",
       "    }\n",
       "\n",
       "    .dataframe tbody tr th {\n",
       "        vertical-align: top;\n",
       "    }\n",
       "\n",
       "    .dataframe thead th {\n",
       "        text-align: right;\n",
       "    }\n",
       "</style>\n",
       "<table border=\"1\" class=\"dataframe\">\n",
       "  <thead>\n",
       "    <tr style=\"text-align: right;\">\n",
       "      <th></th>\n",
       "      <th>experience_level</th>\n",
       "      <th>employment_type</th>\n",
       "      <th>job_title</th>\n",
       "      <th>salary_currency</th>\n",
       "      <th>employee_residence</th>\n",
       "      <th>company_location</th>\n",
       "      <th>company_size</th>\n",
       "    </tr>\n",
       "  </thead>\n",
       "  <tbody>\n",
       "    <tr>\n",
       "      <th>count</th>\n",
       "      <td>2584</td>\n",
       "      <td>2584</td>\n",
       "      <td>2584</td>\n",
       "      <td>2584</td>\n",
       "      <td>2584</td>\n",
       "      <td>2584</td>\n",
       "      <td>2584</td>\n",
       "    </tr>\n",
       "    <tr>\n",
       "      <th>unique</th>\n",
       "      <td>4</td>\n",
       "      <td>4</td>\n",
       "      <td>93</td>\n",
       "      <td>20</td>\n",
       "      <td>78</td>\n",
       "      <td>72</td>\n",
       "      <td>3</td>\n",
       "    </tr>\n",
       "    <tr>\n",
       "      <th>top</th>\n",
       "      <td>SE</td>\n",
       "      <td>FT</td>\n",
       "      <td>Data Engineer</td>\n",
       "      <td>USD</td>\n",
       "      <td>US</td>\n",
       "      <td>US</td>\n",
       "      <td>M</td>\n",
       "    </tr>\n",
       "    <tr>\n",
       "      <th>freq</th>\n",
       "      <td>1554</td>\n",
       "      <td>2547</td>\n",
       "      <td>598</td>\n",
       "      <td>2107</td>\n",
       "      <td>1893</td>\n",
       "      <td>1929</td>\n",
       "      <td>2028</td>\n",
       "    </tr>\n",
       "  </tbody>\n",
       "</table>\n",
       "</div>"
      ],
      "text/plain": [
       "       experience_level employment_type      job_title salary_currency  \\\n",
       "count              2584            2584           2584            2584   \n",
       "unique                4               4             93              20   \n",
       "top                  SE              FT  Data Engineer             USD   \n",
       "freq               1554            2547            598            2107   \n",
       "\n",
       "       employee_residence company_location company_size  \n",
       "count                2584             2584         2584  \n",
       "unique                 78               72            3  \n",
       "top                    US               US            M  \n",
       "freq                 1893             1929         2028  "
      ]
     },
     "execution_count": 19,
     "metadata": {},
     "output_type": "execute_result"
    }
   ],
   "source": [
    "df1.describe(include='O')"
   ]
  },
  {
   "cell_type": "markdown",
   "id": "06965053",
   "metadata": {},
   "source": [
    "##### Exploratory Data Analysis"
   ]
  },
  {
   "cell_type": "code",
   "execution_count": 16,
   "id": "2253f549",
   "metadata": {},
   "outputs": [
    {
     "data": {
      "text/plain": [
       "Data Engineer                269\n",
       "Data Scientist               223\n",
       "Data Analyst                 195\n",
       "Machine Learning Engineer    103\n",
       "Analytics Engineer            41\n",
       "Research Scientist            38\n",
       "Data Architect                31\n",
       "Research Engineer             28\n",
       "Applied Scientist             20\n",
       "Data Manager                  18\n",
       "Name: job_title, dtype: int64"
      ]
     },
     "execution_count": 16,
     "metadata": {},
     "output_type": "execute_result"
    }
   ],
   "source": [
    "# Top 10 job titles in 2023\n",
    "\n",
    "dfj= df1[df1['work_year']==2023]['job_title'].value_counts().head(10)\n",
    "dfj"
   ]
  },
  {
   "cell_type": "code",
   "execution_count": 17,
   "id": "77d9d34c",
   "metadata": {},
   "outputs": [
    {
     "data": {
      "text/plain": [
       "Index(['Data Engineer', 'Data Scientist', 'Data Analyst',\n",
       "       'Machine Learning Engineer', 'Analytics Engineer', 'Research Scientist',\n",
       "       'Data Architect', 'Research Engineer', 'Applied Scientist',\n",
       "       'Data Manager'],\n",
       "      dtype='object')"
      ]
     },
     "execution_count": 17,
     "metadata": {},
     "output_type": "execute_result"
    }
   ],
   "source": [
    "dfj.index"
   ]
  },
  {
   "cell_type": "code",
   "execution_count": 18,
   "id": "ef097a1a",
   "metadata": {},
   "outputs": [
    {
     "data": {
      "text/plain": [
       "array([269, 223, 195, 103,  41,  38,  31,  28,  20,  18], dtype=int64)"
      ]
     },
     "execution_count": 18,
     "metadata": {},
     "output_type": "execute_result"
    }
   ],
   "source": [
    "dfj.values"
   ]
  },
  {
   "cell_type": "code",
   "execution_count": 19,
   "id": "2ac5094e",
   "metadata": {},
   "outputs": [
    {
     "data": {
      "image/png": "[encoded data removed]",
      "text/plain": [
       "<Figure size 640x480 with 1 Axes>"
      ]
     },
     "metadata": {},
     "output_type": "display_data"
    }
   ],
   "source": [
    "# Top 10 job titles in 2023 on the basis of bar plot\n",
    "\n",
    "sns.barplot(x=dfj.values,y=dfj.index)\n",
    "\n",
    "# Display the values on the bars\n",
    "for i, value in enumerate(dfj.values):\n",
    "    plt.text(value, i, f'{value}',ha='left', va='center')\n",
    "\n",
    "plt.xlabel('Value_Counts')\n",
    "plt.ylabel('Job Titles')\n",
    "plt.title('Top 10 Job Titles in 2023')\n",
    "\n",
    "plt.show()"
   ]
  },
  {
   "cell_type": "markdown",
   "id": "912d2258",
   "metadata": {},
   "source": [
    "In 2023, Data Engineers are more and ranked first compared to all other jobs.\n",
    "* Data Engineer and Data Scientist jobs are above 200\n",
    "* Then comes Data Analyst and Machine Learning Engineer jobs which are above 100 and below 200. \n",
    "* All the remaining jobs are below 50.\n",
    "\n"
   ]
  },
  {
   "cell_type": "code",
   "execution_count": 20,
   "id": "35eaf519",
   "metadata": {},
   "outputs": [
    {
     "data": {
      "text/plain": [
       "array(['SE', 'MI', 'EN', 'EX'], dtype=object)"
      ]
     },
     "execution_count": 20,
     "metadata": {},
     "output_type": "execute_result"
    }
   ],
   "source": [
    "# Find the unique values of experience levels\n",
    "\n",
    "df1['experience_level'].unique()"
   ]
  },
  {
   "cell_type": "code",
   "execution_count": 21,
   "id": "5045a436",
   "metadata": {},
   "outputs": [
    {
     "data": {
      "text/plain": [
       "SE    1554\n",
       "MI     664\n",
       "EN     270\n",
       "EX      96\n",
       "Name: experience_level, dtype: int64"
      ]
     },
     "execution_count": 21,
     "metadata": {},
     "output_type": "execute_result"
    }
   ],
   "source": [
    "# Count of Experience levels \n",
    "\n",
    "df1['experience_level'].value_counts()"
   ]
  },
  {
   "cell_type": "code",
   "execution_count": 22,
   "id": "3485d3e4",
   "metadata": {},
   "outputs": [
    {
     "data": {
      "image/png": "[encoded data removed]",
      "text/plain": [
       "<Figure size 640x480 with 1 Axes>"
      ]
     },
     "metadata": {},
     "output_type": "display_data"
    }
   ],
   "source": [
    "# Experience levels by using bar with count on the top of the bar\n",
    "\n",
    "sns.barplot(x= df1['experience_level'].value_counts().index, y= df1['experience_level'].value_counts().values)\n",
    "\n",
    "# Display the values on the bars\n",
    "for index, value in enumerate(df1['experience_level'].value_counts().values):\n",
    "    plt.text(index, value, f'{value}',ha='center', va='bottom')\n",
    "\n",
    "plt.xlabel('Experience levels')\n",
    "plt.ylabel('Value_Counts')\n",
    "plt.title('Count of Experience levels')\n",
    "\n",
    "plt.show()"
   ]
  },
  {
   "cell_type": "markdown",
   "id": "8a0214da",
   "metadata": {},
   "source": [
    "By the above observation, most of the employees are of SE- Senior Expert level experience. \n",
    "The ranking of experience levels is in the following order:\n",
    "1. SE- Senior Expert Level \n",
    "2. MI- Mid or Intermediate Level\n",
    "3. EN- Entry Level \n",
    "4. EX- Executive Level"
   ]
  },
  {
   "cell_type": "code",
   "execution_count": 23,
   "id": "8257eca1",
   "metadata": {},
   "outputs": [
    {
     "data": {
      "text/plain": [
       "array(['FT', 'CT', 'FL', 'PT'], dtype=object)"
      ]
     },
     "execution_count": 23,
     "metadata": {},
     "output_type": "execute_result"
    }
   ],
   "source": [
    "# Find the unique values of Employement type\n",
    "\n",
    "df1['employment_type'].unique()"
   ]
  },
  {
   "cell_type": "code",
   "execution_count": 24,
   "id": "8bb8e12c",
   "metadata": {},
   "outputs": [
    {
     "data": {
      "text/plain": [
       "FT    2547\n",
       "PT      17\n",
       "CT      10\n",
       "FL      10\n",
       "Name: employment_type, dtype: int64"
      ]
     },
     "execution_count": 24,
     "metadata": {},
     "output_type": "execute_result"
    }
   ],
   "source": [
    "df1['employment_type'].value_counts()"
   ]
  },
  {
   "cell_type": "code",
   "execution_count": 25,
   "id": "2d19f1fb",
   "metadata": {},
   "outputs": [
    {
     "data": {
      "image/png": "[encoded data removed]",
      "text/plain": [
       "<Figure size 640x480 with 1 Axes>"
      ]
     },
     "metadata": {},
     "output_type": "display_data"
    }
   ],
   "source": [
    "# Number of employment types by using bar plot\n",
    "\n",
    "sns.barplot(x=df1['employment_type'].value_counts().index, y= df1['employment_type'].value_counts().values)\n",
    "\n",
    "# Display the values on the bars\n",
    "for index, value in enumerate(df1['employment_type'].value_counts().values):\n",
    "    plt.text(index, value, f'{value}',ha='center', va='bottom')\n",
    "\n",
    "plt.xlabel('Employment Type')\n",
    "plt.ylabel('Value_Counts')\n",
    "plt.title('Number of Employment Types')\n",
    "\n",
    "plt.show()"
   ]
  },
  {
   "cell_type": "markdown",
   "id": "e7c506cc",
   "metadata": {},
   "source": [
    "It is clear that maximum jobs are FT- Full Time employment type i.e., 98.56% of the jobs are FT- Full Time employment. \n",
    "The remaining three types of each employment is less than 1%."
   ]
  },
  {
   "cell_type": "code",
   "execution_count": 26,
   "id": "cde746ef",
   "metadata": {},
   "outputs": [
    {
     "data": {
      "text/html": [
       "<div>\n",
       "<style scoped>\n",
       "    .dataframe tbody tr th:only-of-type {\n",
       "        vertical-align: middle;\n",
       "    }\n",
       "\n",
       "    .dataframe tbody tr th {\n",
       "        vertical-align: top;\n",
       "    }\n",
       "\n",
       "    .dataframe thead th {\n",
       "        text-align: right;\n",
       "    }\n",
       "</style>\n",
       "<table border=\"1\" class=\"dataframe\">\n",
       "  <thead>\n",
       "    <tr style=\"text-align: right;\">\n",
       "      <th></th>\n",
       "      <th>work_year</th>\n",
       "      <th>experience_level</th>\n",
       "      <th>employment_type</th>\n",
       "      <th>job_title</th>\n",
       "      <th>salary</th>\n",
       "      <th>salary_currency</th>\n",
       "      <th>salary_in_usd</th>\n",
       "      <th>employee_residence</th>\n",
       "      <th>remote_ratio</th>\n",
       "      <th>company_location</th>\n",
       "      <th>company_size</th>\n",
       "    </tr>\n",
       "  </thead>\n",
       "  <tbody>\n",
       "    <tr>\n",
       "      <th>3669</th>\n",
       "      <td>2021</td>\n",
       "      <td>MI</td>\n",
       "      <td>FT</td>\n",
       "      <td>Data Scientist</td>\n",
       "      <td>30400000</td>\n",
       "      <td>CLP</td>\n",
       "      <td>40038</td>\n",
       "      <td>CL</td>\n",
       "      <td>100</td>\n",
       "      <td>CL</td>\n",
       "      <td>L</td>\n",
       "    </tr>\n",
       "    <tr>\n",
       "      <th>3574</th>\n",
       "      <td>2021</td>\n",
       "      <td>MI</td>\n",
       "      <td>FT</td>\n",
       "      <td>BI Data Analyst</td>\n",
       "      <td>11000000</td>\n",
       "      <td>HUF</td>\n",
       "      <td>36259</td>\n",
       "      <td>HU</td>\n",
       "      <td>50</td>\n",
       "      <td>US</td>\n",
       "      <td>L</td>\n",
       "    </tr>\n",
       "    <tr>\n",
       "      <th>3646</th>\n",
       "      <td>2020</td>\n",
       "      <td>MI</td>\n",
       "      <td>FT</td>\n",
       "      <td>Data Scientist</td>\n",
       "      <td>11000000</td>\n",
       "      <td>HUF</td>\n",
       "      <td>35735</td>\n",
       "      <td>HU</td>\n",
       "      <td>50</td>\n",
       "      <td>HU</td>\n",
       "      <td>L</td>\n",
       "    </tr>\n",
       "    <tr>\n",
       "      <th>3475</th>\n",
       "      <td>2021</td>\n",
       "      <td>MI</td>\n",
       "      <td>FT</td>\n",
       "      <td>ML Engineer</td>\n",
       "      <td>8500000</td>\n",
       "      <td>JPY</td>\n",
       "      <td>77364</td>\n",
       "      <td>JP</td>\n",
       "      <td>50</td>\n",
       "      <td>JP</td>\n",
       "      <td>S</td>\n",
       "    </tr>\n",
       "    <tr>\n",
       "      <th>2966</th>\n",
       "      <td>2022</td>\n",
       "      <td>SE</td>\n",
       "      <td>FT</td>\n",
       "      <td>Lead Machine Learning Engineer</td>\n",
       "      <td>7500000</td>\n",
       "      <td>INR</td>\n",
       "      <td>95386</td>\n",
       "      <td>IN</td>\n",
       "      <td>50</td>\n",
       "      <td>IN</td>\n",
       "      <td>L</td>\n",
       "    </tr>\n",
       "    <tr>\n",
       "      <th>3476</th>\n",
       "      <td>2021</td>\n",
       "      <td>MI</td>\n",
       "      <td>FT</td>\n",
       "      <td>ML Engineer</td>\n",
       "      <td>7000000</td>\n",
       "      <td>JPY</td>\n",
       "      <td>63711</td>\n",
       "      <td>JP</td>\n",
       "      <td>50</td>\n",
       "      <td>JP</td>\n",
       "      <td>S</td>\n",
       "    </tr>\n",
       "    <tr>\n",
       "      <th>3754</th>\n",
       "      <td>2021</td>\n",
       "      <td>SE</td>\n",
       "      <td>FT</td>\n",
       "      <td>Data Science Manager</td>\n",
       "      <td>7000000</td>\n",
       "      <td>INR</td>\n",
       "      <td>94665</td>\n",
       "      <td>IN</td>\n",
       "      <td>50</td>\n",
       "      <td>IN</td>\n",
       "      <td>L</td>\n",
       "    </tr>\n",
       "    <tr>\n",
       "      <th>2358</th>\n",
       "      <td>2022</td>\n",
       "      <td>EN</td>\n",
       "      <td>FT</td>\n",
       "      <td>Data Scientist</td>\n",
       "      <td>6600000</td>\n",
       "      <td>HUF</td>\n",
       "      <td>17684</td>\n",
       "      <td>HU</td>\n",
       "      <td>100</td>\n",
       "      <td>HU</td>\n",
       "      <td>M</td>\n",
       "    </tr>\n",
       "    <tr>\n",
       "      <th>3192</th>\n",
       "      <td>2022</td>\n",
       "      <td>EX</td>\n",
       "      <td>FT</td>\n",
       "      <td>Head of Machine Learning</td>\n",
       "      <td>6000000</td>\n",
       "      <td>INR</td>\n",
       "      <td>76309</td>\n",
       "      <td>IN</td>\n",
       "      <td>50</td>\n",
       "      <td>IN</td>\n",
       "      <td>L</td>\n",
       "    </tr>\n",
       "    <tr>\n",
       "      <th>1462</th>\n",
       "      <td>2023</td>\n",
       "      <td>MI</td>\n",
       "      <td>FT</td>\n",
       "      <td>Head of Data Science</td>\n",
       "      <td>5000000</td>\n",
       "      <td>INR</td>\n",
       "      <td>60795</td>\n",
       "      <td>IN</td>\n",
       "      <td>50</td>\n",
       "      <td>IN</td>\n",
       "      <td>L</td>\n",
       "    </tr>\n",
       "    <tr>\n",
       "      <th>3639</th>\n",
       "      <td>2021</td>\n",
       "      <td>SE</td>\n",
       "      <td>FT</td>\n",
       "      <td>Machine Learning Engineer</td>\n",
       "      <td>4900000</td>\n",
       "      <td>INR</td>\n",
       "      <td>66265</td>\n",
       "      <td>IN</td>\n",
       "      <td>0</td>\n",
       "      <td>IN</td>\n",
       "      <td>L</td>\n",
       "    </tr>\n",
       "    <tr>\n",
       "      <th>1868</th>\n",
       "      <td>2022</td>\n",
       "      <td>SE</td>\n",
       "      <td>FT</td>\n",
       "      <td>Lead Data Scientist</td>\n",
       "      <td>4460000</td>\n",
       "      <td>INR</td>\n",
       "      <td>56723</td>\n",
       "      <td>IN</td>\n",
       "      <td>0</td>\n",
       "      <td>IN</td>\n",
       "      <td>L</td>\n",
       "    </tr>\n",
       "    <tr>\n",
       "      <th>3682</th>\n",
       "      <td>2020</td>\n",
       "      <td>EN</td>\n",
       "      <td>FT</td>\n",
       "      <td>Data Engineer</td>\n",
       "      <td>4450000</td>\n",
       "      <td>JPY</td>\n",
       "      <td>41689</td>\n",
       "      <td>JP</td>\n",
       "      <td>100</td>\n",
       "      <td>JP</td>\n",
       "      <td>S</td>\n",
       "    </tr>\n",
       "    <tr>\n",
       "      <th>3061</th>\n",
       "      <td>2022</td>\n",
       "      <td>MI</td>\n",
       "      <td>FT</td>\n",
       "      <td>Data Scientist</td>\n",
       "      <td>4200000</td>\n",
       "      <td>INR</td>\n",
       "      <td>53416</td>\n",
       "      <td>IN</td>\n",
       "      <td>100</td>\n",
       "      <td>ID</td>\n",
       "      <td>L</td>\n",
       "    </tr>\n",
       "    <tr>\n",
       "      <th>1738</th>\n",
       "      <td>2021</td>\n",
       "      <td>SE</td>\n",
       "      <td>FT</td>\n",
       "      <td>Data Scientist</td>\n",
       "      <td>4000000</td>\n",
       "      <td>INR</td>\n",
       "      <td>54094</td>\n",
       "      <td>IN</td>\n",
       "      <td>100</td>\n",
       "      <td>IN</td>\n",
       "      <td>L</td>\n",
       "    </tr>\n",
       "  </tbody>\n",
       "</table>\n",
       "</div>"
      ],
      "text/plain": [
       "      work_year experience_level employment_type  \\\n",
       "3669       2021               MI              FT   \n",
       "3574       2021               MI              FT   \n",
       "3646       2020               MI              FT   \n",
       "3475       2021               MI              FT   \n",
       "2966       2022               SE              FT   \n",
       "3476       2021               MI              FT   \n",
       "3754       2021               SE              FT   \n",
       "2358       2022               EN              FT   \n",
       "3192       2022               EX              FT   \n",
       "1462       2023               MI              FT   \n",
       "3639       2021               SE              FT   \n",
       "1868       2022               SE              FT   \n",
       "3682       2020               EN              FT   \n",
       "3061       2022               MI              FT   \n",
       "1738       2021               SE              FT   \n",
       "\n",
       "                           job_title    salary salary_currency  salary_in_usd  \\\n",
       "3669                  Data Scientist  30400000             CLP          40038   \n",
       "3574                 BI Data Analyst  11000000             HUF          36259   \n",
       "3646                  Data Scientist  11000000             HUF          35735   \n",
       "3475                     ML Engineer   8500000             JPY          77364   \n",
       "2966  Lead Machine Learning Engineer   7500000             INR          95386   \n",
       "3476                     ML Engineer   7000000             JPY          63711   \n",
       "3754            Data Science Manager   7000000             INR          94665   \n",
       "2358                  Data Scientist   6600000             HUF          17684   \n",
       "3192        Head of Machine Learning   6000000             INR          76309   \n",
       "1462            Head of Data Science   5000000             INR          60795   \n",
       "3639       Machine Learning Engineer   4900000             INR          66265   \n",
       "1868             Lead Data Scientist   4460000             INR          56723   \n",
       "3682                   Data Engineer   4450000             JPY          41689   \n",
       "3061                  Data Scientist   4200000             INR          53416   \n",
       "1738                  Data Scientist   4000000             INR          54094   \n",
       "\n",
       "     employee_residence  remote_ratio company_location company_size  \n",
       "3669                 CL           100               CL            L  \n",
       "3574                 HU            50               US            L  \n",
       "3646                 HU            50               HU            L  \n",
       "3475                 JP            50               JP            S  \n",
       "2966                 IN            50               IN            L  \n",
       "3476                 JP            50               JP            S  \n",
       "3754                 IN            50               IN            L  \n",
       "2358                 HU           100               HU            M  \n",
       "3192                 IN            50               IN            L  \n",
       "1462                 IN            50               IN            L  \n",
       "3639                 IN             0               IN            L  \n",
       "1868                 IN             0               IN            L  \n",
       "3682                 JP           100               JP            S  \n",
       "3061                 IN           100               ID            L  \n",
       "1738                 IN           100               IN            L  "
      ]
     },
     "execution_count": 26,
     "metadata": {},
     "output_type": "execute_result"
    }
   ],
   "source": [
    "# Top 15 job salaries by job titles\n",
    "\n",
    "dfs= df1.nlargest(15,'salary')\n",
    "dfs"
   ]
  },
  {
   "cell_type": "code",
   "execution_count": 27,
   "id": "04f5a99d",
   "metadata": {},
   "outputs": [
    {
     "data": {
      "image/png": "[encoded data removed]",
      "text/plain": [
       "<Figure size 640x480 with 1 Axes>"
      ]
     },
     "metadata": {},
     "output_type": "display_data"
    }
   ],
   "source": [
    "# Top 15 job salaries by job titles by using barh\n",
    "\n",
    "bars = plt.barh(range(len(dfs['job_title'])), dfs['salary'])\n",
    "\n",
    "# Display the job titles on the y-axis\n",
    "plt.yticks(range(len(dfs['job_title'])), dfs['job_title'])\n",
    "\n",
    "# Display the salary values on the bars\n",
    "for bar in bars:\n",
    "    width = bar.get_width()\n",
    "    plt.text(width, bar.get_y() + bar.get_height() / 2, f'{width:,}', ha='left', va='center')\n",
    "    \n",
    "plt.xlabel('Salaries')\n",
    "plt.ylabel('Job Titles')\n",
    "plt.title('Top 15 Job Salaries by Job Titles')\n",
    "\n",
    "plt.show()"
   ]
  },
  {
   "cell_type": "markdown",
   "id": "a347dc27",
   "metadata": {},
   "source": [
    "It is observed that the highest paid job is Data Scientist."
   ]
  },
  {
   "cell_type": "code",
   "execution_count": 28,
   "id": "8e33eccb",
   "metadata": {},
   "outputs": [
    {
     "data": {
      "text/plain": [
       "work_year\n",
       "2020    378170.786667\n",
       "2021    547722.754386\n",
       "2022    177876.830222\n",
       "2023    164557.867647\n",
       "Name: salary, dtype: float64"
      ]
     },
     "execution_count": 28,
     "metadata": {},
     "output_type": "execute_result"
    }
   ],
   "source": [
    "# Average salaries jobs per year\n",
    "\n",
    "df_avg_sal= df1.groupby('work_year')['salary'].mean()\n",
    "df_avg_sal"
   ]
  },
  {
   "cell_type": "code",
   "execution_count": 29,
   "id": "e4c519de",
   "metadata": {},
   "outputs": [
    {
     "data": {
      "image/png": "[encoded data removed]",
      "text/plain": [
       "<Figure size 640x480 with 1 Axes>"
      ]
     },
     "metadata": {},
     "output_type": "display_data"
    }
   ],
   "source": [
    "# Average salaries jobs per year by using bar plot\n",
    "\n",
    "sns.barplot(x= df_avg_sal.index, y= df_avg_sal.values)\n",
    "\n",
    "# Display the values on the bars\n",
    "for index, value in enumerate(df_avg_sal.values):\n",
    "    plt.text(index, value, f'{value: 2f}',ha='center', va='bottom')\n",
    "\n",
    "plt.xlabel('Work Year')\n",
    "plt.ylabel('Average Salaries')\n",
    "plt.title('Average Salaries per Year')\n",
    "\n",
    "plt.show()"
   ]
  },
  {
   "cell_type": "markdown",
   "id": "c1bcd110",
   "metadata": {},
   "source": [
    " The average salaries per year 2021 is highest."
   ]
  },
  {
   "cell_type": "code",
   "execution_count": 30,
   "id": "2e06b4e2",
   "metadata": {},
   "outputs": [
    {
     "data": {
      "image/png": "[encoded data removed]",
      "text/plain": [
       "<Figure size 640x480 with 1 Axes>"
      ]
     },
     "metadata": {},
     "output_type": "display_data"
    }
   ],
   "source": [
    "# Average salaries based on work year by using line plot\n",
    "\n",
    "sns.lineplot(x= df_avg_sal.index, y= df_avg_sal.values, marker= 'o')\n",
    "\n",
    "# Display the values on the data points with 2 decimals\n",
    "for x, y in zip(df_avg_sal.index, df_avg_sal.values):\n",
    "    plt.text(x, y, f'{y:.2f}', ha='center', va='bottom')\n",
    "\n",
    "plt.xticks(df_avg_sal.index)\n",
    "plt.xlabel('Work Year')\n",
    "plt.ylabel('Average Salaries')\n",
    "plt.title('Average Salaries per Year')\n",
    "\n",
    "plt.show()"
   ]
  },
  {
   "cell_type": "markdown",
   "id": "84db90d4",
   "metadata": {},
   "source": [
    "Average salaries per year 2023 is the least compared to other three working years."
   ]
  },
  {
   "cell_type": "markdown",
   "id": "9b8d96e9",
   "metadata": {},
   "source": [
    "##### Summary "
   ]
  },
  {
   "cell_type": "markdown",
   "id": "ef77d50b",
   "metadata": {},
   "source": [
    "* In 2023, most of the employees are Data Engineers, Data Scientists, Data Analysts and Machine Learning Engineers. \n",
    "* Most of the employees have SE- Senior Expert Level experience.\n",
    "* Almost 99% of the employees are doing FT- Full Time jobs.\n",
    "* Amongst all jobs, most of the Data Scientists have highly paid salaries.\n",
    "* The average salaries are highest in the year 2021 and had gradually decreased by the year 2023. "
   ]
  }
 ],
 "metadata": {
  "kernelspec": {
   "display_name": "Python 3 (ipykernel)",
   "language": "python",
   "name": "python3"
  },
  "language_info": {
   "codemirror_mode": {
    "name": "ipython",
    "version": 3
   },
   "file_extension": ".py",
   "mimetype": "text/x-python",
   "name": "python",
   "nbconvert_exporter": "python",
   "pygments_lexer": "ipython3",
   "version": "3.9.13"
  }
 },
 "nbformat": 4,
 "nbformat_minor": 5
}
